{
 "cells": [
  {
   "cell_type": "code",
   "execution_count": 3,
   "metadata": {},
   "outputs": [],
   "source": [
    "import cv2 \n",
    "import os\n",
    "from detector import Detection, center_box\n",
    "import pandas as pd"
   ]
  },
  {
   "cell_type": "code",
   "execution_count": 4,
   "metadata": {},
   "outputs": [
    {
     "name": "stderr",
     "output_type": "stream",
     "text": [
      "Loading checkpoint from D:/User/Bot_C/ESP32_DOIT/scripts/model_control_arm.pt\n",
      "\n",
      "Fusing model...\n"
     ]
    },
    {
     "name": "stdout",
     "output_type": "stream",
     "text": [
      "cpu\n"
     ]
    }
   ],
   "source": [
    "de = Detection()\n",
    "path = \"D:/User/data/image/Val\"\n",
    "labels = \"D:/User/data/label/Val\"\n",
    "list_files = os.listdir(path)\n",
    "for image in list_files:\n",
    "    path_image = os.path.join(path,image)\n",
    "    name_image = os.path.join(labels,image).replace('.png','.txt')\n",
    "\n",
    "\n",
    "    image = cv2.imread(path_image)\n",
    "    wt, hg = image.shape[1], image.shape[0]\n",
    "    cls, box, image = de.detector_image(image)\n",
    "    x,y,w,h = center_box(box[0],image)\n",
    "    # print(cls[0],x,y,w,h)\n",
    "\n",
    "    df = pd.DataFrame([[cls[0], x,y,w,h]])\n",
    "\n",
    "    df.to_csv(name_image, sep=' ', index=False, header=False)\n"
   ]
  }
 ],
 "metadata": {
  "kernelspec": {
   "display_name": "my_islle",
   "language": "python",
   "name": "python3"
  },
  "language_info": {
   "codemirror_mode": {
    "name": "ipython",
    "version": 3
   },
   "file_extension": ".py",
   "mimetype": "text/x-python",
   "name": "python",
   "nbconvert_exporter": "python",
   "pygments_lexer": "ipython3",
   "version": "3.8.0"
  },
  "orig_nbformat": 4
 },
 "nbformat": 4,
 "nbformat_minor": 2
}
